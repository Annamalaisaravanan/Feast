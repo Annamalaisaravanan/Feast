{
 "cells": [
  {
   "cell_type": "code",
   "execution_count": 1,
   "id": "f5066777-b8d6-4062-b437-1436b3c330bc",
   "metadata": {},
   "outputs": [],
   "source": [
    "import feast\n",
    "import pandas as pd\n",
    "import numpy as np"
   ]
  },
  {
   "cell_type": "code",
   "execution_count": 2,
   "id": "2ad26ad6-f116-4896-a715-8bf26dac0c90",
   "metadata": {},
   "outputs": [],
   "source": [
    "df = pd.read_csv(\"IRIS.csv\")"
   ]
  },
  {
   "cell_type": "code",
   "execution_count": 3,
   "id": "719075bb-b6e1-49c7-a8ac-fe5d069ff178",
   "metadata": {},
   "outputs": [
    {
     "data": {
      "text/html": [
       "<div>\n",
       "<style scoped>\n",
       "    .dataframe tbody tr th:only-of-type {\n",
       "        vertical-align: middle;\n",
       "    }\n",
       "\n",
       "    .dataframe tbody tr th {\n",
       "        vertical-align: top;\n",
       "    }\n",
       "\n",
       "    .dataframe thead th {\n",
       "        text-align: right;\n",
       "    }\n",
       "</style>\n",
       "<table border=\"1\" class=\"dataframe\">\n",
       "  <thead>\n",
       "    <tr style=\"text-align: right;\">\n",
       "      <th></th>\n",
       "      <th>sepal_length</th>\n",
       "      <th>sepal_width</th>\n",
       "      <th>petal_length</th>\n",
       "      <th>petal_width</th>\n",
       "      <th>species</th>\n",
       "    </tr>\n",
       "  </thead>\n",
       "  <tbody>\n",
       "    <tr>\n",
       "      <th>0</th>\n",
       "      <td>5.1</td>\n",
       "      <td>3.5</td>\n",
       "      <td>1.4</td>\n",
       "      <td>0.2</td>\n",
       "      <td>Iris-setosa</td>\n",
       "    </tr>\n",
       "    <tr>\n",
       "      <th>1</th>\n",
       "      <td>4.9</td>\n",
       "      <td>3.0</td>\n",
       "      <td>1.4</td>\n",
       "      <td>0.2</td>\n",
       "      <td>Iris-setosa</td>\n",
       "    </tr>\n",
       "    <tr>\n",
       "      <th>2</th>\n",
       "      <td>4.7</td>\n",
       "      <td>3.2</td>\n",
       "      <td>1.3</td>\n",
       "      <td>0.2</td>\n",
       "      <td>Iris-setosa</td>\n",
       "    </tr>\n",
       "    <tr>\n",
       "      <th>3</th>\n",
       "      <td>4.6</td>\n",
       "      <td>3.1</td>\n",
       "      <td>1.5</td>\n",
       "      <td>0.2</td>\n",
       "      <td>Iris-setosa</td>\n",
       "    </tr>\n",
       "    <tr>\n",
       "      <th>4</th>\n",
       "      <td>5.0</td>\n",
       "      <td>3.6</td>\n",
       "      <td>1.4</td>\n",
       "      <td>0.2</td>\n",
       "      <td>Iris-setosa</td>\n",
       "    </tr>\n",
       "  </tbody>\n",
       "</table>\n",
       "</div>"
      ],
      "text/plain": [
       "   sepal_length  sepal_width  petal_length  petal_width      species\n",
       "0           5.1          3.5           1.4          0.2  Iris-setosa\n",
       "1           4.9          3.0           1.4          0.2  Iris-setosa\n",
       "2           4.7          3.2           1.3          0.2  Iris-setosa\n",
       "3           4.6          3.1           1.5          0.2  Iris-setosa\n",
       "4           5.0          3.6           1.4          0.2  Iris-setosa"
      ]
     },
     "execution_count": 3,
     "metadata": {},
     "output_type": "execute_result"
    }
   ],
   "source": [
    "df.head(5)"
   ]
  },
  {
   "cell_type": "code",
   "execution_count": 4,
   "id": "bf236cf0-5cd4-4326-a984-c1f63b339760",
   "metadata": {},
   "outputs": [],
   "source": [
    "df.reset_index(inplace=True)"
   ]
  },
  {
   "cell_type": "code",
   "execution_count": 5,
   "id": "2f99cfec-e736-4ff7-a48b-6648a9947cc6",
   "metadata": {},
   "outputs": [],
   "source": [
    "df.rename(columns={'index':'irisid'}, inplace=True)"
   ]
  },
  {
   "cell_type": "code",
   "execution_count": 6,
   "id": "f84d3bfe-bd8e-4cd1-b7c7-365e90aff76c",
   "metadata": {},
   "outputs": [],
   "source": [
    "from datetime import datetime, timedelta"
   ]
  },
  {
   "cell_type": "code",
   "execution_count": 7,
   "id": "6182c7bb-a80a-4d1b-b579-766678d528af",
   "metadata": {},
   "outputs": [],
   "source": [
    "timestamp = pd.date_range(end = pd.Timestamp.now(), periods = len(df), freq='D').to_frame(name='event_timestamp', index=False)"
   ]
  },
  {
   "cell_type": "code",
   "execution_count": 7,
   "id": "2103d1cc-a2d1-4568-bf09-519590522036",
   "metadata": {},
   "outputs": [],
   "source": [
    "# event_timestamp = datetime.now() - timedelta(weeks=1)\n",
    "# created_timestamp = datetime.now()\n",
    "\n",
    "# df['created_timestamp'] = created_timestamp\n",
    "# df['event_timestamp'] = event_timestamp"
   ]
  },
  {
   "cell_type": "code",
   "execution_count": 8,
   "id": "c1d02a16-3017-4d54-a2d6-3949aa248640",
   "metadata": {},
   "outputs": [
    {
     "data": {
      "text/html": [
       "<div>\n",
       "<style scoped>\n",
       "    .dataframe tbody tr th:only-of-type {\n",
       "        vertical-align: middle;\n",
       "    }\n",
       "\n",
       "    .dataframe tbody tr th {\n",
       "        vertical-align: top;\n",
       "    }\n",
       "\n",
       "    .dataframe thead th {\n",
       "        text-align: right;\n",
       "    }\n",
       "</style>\n",
       "<table border=\"1\" class=\"dataframe\">\n",
       "  <thead>\n",
       "    <tr style=\"text-align: right;\">\n",
       "      <th></th>\n",
       "      <th>event_timestamp</th>\n",
       "    </tr>\n",
       "  </thead>\n",
       "  <tbody>\n",
       "    <tr>\n",
       "      <th>0</th>\n",
       "      <td>2024-01-11 21:15:55.321761</td>\n",
       "    </tr>\n",
       "    <tr>\n",
       "      <th>1</th>\n",
       "      <td>2024-01-12 21:15:55.321761</td>\n",
       "    </tr>\n",
       "    <tr>\n",
       "      <th>2</th>\n",
       "      <td>2024-01-13 21:15:55.321761</td>\n",
       "    </tr>\n",
       "    <tr>\n",
       "      <th>3</th>\n",
       "      <td>2024-01-14 21:15:55.321761</td>\n",
       "    </tr>\n",
       "    <tr>\n",
       "      <th>4</th>\n",
       "      <td>2024-01-15 21:15:55.321761</td>\n",
       "    </tr>\n",
       "    <tr>\n",
       "      <th>...</th>\n",
       "      <td>...</td>\n",
       "    </tr>\n",
       "    <tr>\n",
       "      <th>145</th>\n",
       "      <td>2024-06-04 21:15:55.321761</td>\n",
       "    </tr>\n",
       "    <tr>\n",
       "      <th>146</th>\n",
       "      <td>2024-06-05 21:15:55.321761</td>\n",
       "    </tr>\n",
       "    <tr>\n",
       "      <th>147</th>\n",
       "      <td>2024-06-06 21:15:55.321761</td>\n",
       "    </tr>\n",
       "    <tr>\n",
       "      <th>148</th>\n",
       "      <td>2024-06-07 21:15:55.321761</td>\n",
       "    </tr>\n",
       "    <tr>\n",
       "      <th>149</th>\n",
       "      <td>2024-06-08 21:15:55.321761</td>\n",
       "    </tr>\n",
       "  </tbody>\n",
       "</table>\n",
       "<p>150 rows × 1 columns</p>\n",
       "</div>"
      ],
      "text/plain": [
       "               event_timestamp\n",
       "0   2024-01-11 21:15:55.321761\n",
       "1   2024-01-12 21:15:55.321761\n",
       "2   2024-01-13 21:15:55.321761\n",
       "3   2024-01-14 21:15:55.321761\n",
       "4   2024-01-15 21:15:55.321761\n",
       "..                         ...\n",
       "145 2024-06-04 21:15:55.321761\n",
       "146 2024-06-05 21:15:55.321761\n",
       "147 2024-06-06 21:15:55.321761\n",
       "148 2024-06-07 21:15:55.321761\n",
       "149 2024-06-08 21:15:55.321761\n",
       "\n",
       "[150 rows x 1 columns]"
      ]
     },
     "execution_count": 8,
     "metadata": {},
     "output_type": "execute_result"
    }
   ],
   "source": [
    "timestamp"
   ]
  },
  {
   "cell_type": "code",
   "execution_count": 9,
   "id": "65491ef8-f8d1-4331-8543-15592394a62e",
   "metadata": {},
   "outputs": [],
   "source": [
    "df = pd.concat(objs = [df, timestamp], axis=1)"
   ]
  },
  {
   "cell_type": "code",
   "execution_count": 10,
   "id": "ee537b3d-9611-4d02-a619-a9074626aa87",
   "metadata": {},
   "outputs": [
    {
     "data": {
      "text/html": [
       "<div>\n",
       "<style scoped>\n",
       "    .dataframe tbody tr th:only-of-type {\n",
       "        vertical-align: middle;\n",
       "    }\n",
       "\n",
       "    .dataframe tbody tr th {\n",
       "        vertical-align: top;\n",
       "    }\n",
       "\n",
       "    .dataframe thead th {\n",
       "        text-align: right;\n",
       "    }\n",
       "</style>\n",
       "<table border=\"1\" class=\"dataframe\">\n",
       "  <thead>\n",
       "    <tr style=\"text-align: right;\">\n",
       "      <th></th>\n",
       "      <th>irisid</th>\n",
       "      <th>sepal_length</th>\n",
       "      <th>sepal_width</th>\n",
       "      <th>petal_length</th>\n",
       "      <th>petal_width</th>\n",
       "      <th>species</th>\n",
       "      <th>event_timestamp</th>\n",
       "    </tr>\n",
       "  </thead>\n",
       "  <tbody>\n",
       "    <tr>\n",
       "      <th>0</th>\n",
       "      <td>0</td>\n",
       "      <td>5.1</td>\n",
       "      <td>3.5</td>\n",
       "      <td>1.4</td>\n",
       "      <td>0.2</td>\n",
       "      <td>Iris-setosa</td>\n",
       "      <td>2024-01-11 21:15:55.321761</td>\n",
       "    </tr>\n",
       "    <tr>\n",
       "      <th>1</th>\n",
       "      <td>1</td>\n",
       "      <td>4.9</td>\n",
       "      <td>3.0</td>\n",
       "      <td>1.4</td>\n",
       "      <td>0.2</td>\n",
       "      <td>Iris-setosa</td>\n",
       "      <td>2024-01-12 21:15:55.321761</td>\n",
       "    </tr>\n",
       "    <tr>\n",
       "      <th>2</th>\n",
       "      <td>2</td>\n",
       "      <td>4.7</td>\n",
       "      <td>3.2</td>\n",
       "      <td>1.3</td>\n",
       "      <td>0.2</td>\n",
       "      <td>Iris-setosa</td>\n",
       "      <td>2024-01-13 21:15:55.321761</td>\n",
       "    </tr>\n",
       "    <tr>\n",
       "      <th>3</th>\n",
       "      <td>3</td>\n",
       "      <td>4.6</td>\n",
       "      <td>3.1</td>\n",
       "      <td>1.5</td>\n",
       "      <td>0.2</td>\n",
       "      <td>Iris-setosa</td>\n",
       "      <td>2024-01-14 21:15:55.321761</td>\n",
       "    </tr>\n",
       "    <tr>\n",
       "      <th>4</th>\n",
       "      <td>4</td>\n",
       "      <td>5.0</td>\n",
       "      <td>3.6</td>\n",
       "      <td>1.4</td>\n",
       "      <td>0.2</td>\n",
       "      <td>Iris-setosa</td>\n",
       "      <td>2024-01-15 21:15:55.321761</td>\n",
       "    </tr>\n",
       "  </tbody>\n",
       "</table>\n",
       "</div>"
      ],
      "text/plain": [
       "   irisid  sepal_length  sepal_width  petal_length  petal_width      species  \\\n",
       "0       0           5.1          3.5           1.4          0.2  Iris-setosa   \n",
       "1       1           4.9          3.0           1.4          0.2  Iris-setosa   \n",
       "2       2           4.7          3.2           1.3          0.2  Iris-setosa   \n",
       "3       3           4.6          3.1           1.5          0.2  Iris-setosa   \n",
       "4       4           5.0          3.6           1.4          0.2  Iris-setosa   \n",
       "\n",
       "             event_timestamp  \n",
       "0 2024-01-11 21:15:55.321761  \n",
       "1 2024-01-12 21:15:55.321761  \n",
       "2 2024-01-13 21:15:55.321761  \n",
       "3 2024-01-14 21:15:55.321761  \n",
       "4 2024-01-15 21:15:55.321761  "
      ]
     },
     "execution_count": 10,
     "metadata": {},
     "output_type": "execute_result"
    }
   ],
   "source": [
    "df.head(5)"
   ]
  },
  {
   "cell_type": "code",
   "execution_count": 21,
   "id": "e78da6fe-cd1b-4f94-b88a-fe8c5aee7191",
   "metadata": {},
   "outputs": [],
   "source": [
    "predictors_df = df[['event_timestamp','sepal_length','petal_length','sepal_width','petal_width', 'irisid']]"
   ]
  },
  {
   "cell_type": "code",
   "execution_count": 22,
   "id": "edca6d98-70d5-4d42-9662-2e08d6ee267e",
   "metadata": {},
   "outputs": [
    {
     "data": {
      "text/html": [
       "<div>\n",
       "<style scoped>\n",
       "    .dataframe tbody tr th:only-of-type {\n",
       "        vertical-align: middle;\n",
       "    }\n",
       "\n",
       "    .dataframe tbody tr th {\n",
       "        vertical-align: top;\n",
       "    }\n",
       "\n",
       "    .dataframe thead th {\n",
       "        text-align: right;\n",
       "    }\n",
       "</style>\n",
       "<table border=\"1\" class=\"dataframe\">\n",
       "  <thead>\n",
       "    <tr style=\"text-align: right;\">\n",
       "      <th></th>\n",
       "      <th>event_timestamp</th>\n",
       "      <th>sepal_length</th>\n",
       "      <th>petal_length</th>\n",
       "      <th>sepal_width</th>\n",
       "      <th>petal_width</th>\n",
       "      <th>irisid</th>\n",
       "    </tr>\n",
       "  </thead>\n",
       "  <tbody>\n",
       "    <tr>\n",
       "      <th>0</th>\n",
       "      <td>2024-01-11 21:15:55.321761</td>\n",
       "      <td>5.1</td>\n",
       "      <td>1.4</td>\n",
       "      <td>3.5</td>\n",
       "      <td>0.2</td>\n",
       "      <td>0</td>\n",
       "    </tr>\n",
       "    <tr>\n",
       "      <th>1</th>\n",
       "      <td>2024-01-12 21:15:55.321761</td>\n",
       "      <td>4.9</td>\n",
       "      <td>1.4</td>\n",
       "      <td>3.0</td>\n",
       "      <td>0.2</td>\n",
       "      <td>1</td>\n",
       "    </tr>\n",
       "    <tr>\n",
       "      <th>2</th>\n",
       "      <td>2024-01-13 21:15:55.321761</td>\n",
       "      <td>4.7</td>\n",
       "      <td>1.3</td>\n",
       "      <td>3.2</td>\n",
       "      <td>0.2</td>\n",
       "      <td>2</td>\n",
       "    </tr>\n",
       "    <tr>\n",
       "      <th>3</th>\n",
       "      <td>2024-01-14 21:15:55.321761</td>\n",
       "      <td>4.6</td>\n",
       "      <td>1.5</td>\n",
       "      <td>3.1</td>\n",
       "      <td>0.2</td>\n",
       "      <td>3</td>\n",
       "    </tr>\n",
       "    <tr>\n",
       "      <th>4</th>\n",
       "      <td>2024-01-15 21:15:55.321761</td>\n",
       "      <td>5.0</td>\n",
       "      <td>1.4</td>\n",
       "      <td>3.6</td>\n",
       "      <td>0.2</td>\n",
       "      <td>4</td>\n",
       "    </tr>\n",
       "    <tr>\n",
       "      <th>...</th>\n",
       "      <td>...</td>\n",
       "      <td>...</td>\n",
       "      <td>...</td>\n",
       "      <td>...</td>\n",
       "      <td>...</td>\n",
       "      <td>...</td>\n",
       "    </tr>\n",
       "    <tr>\n",
       "      <th>145</th>\n",
       "      <td>2024-06-04 21:15:55.321761</td>\n",
       "      <td>6.7</td>\n",
       "      <td>5.2</td>\n",
       "      <td>3.0</td>\n",
       "      <td>2.3</td>\n",
       "      <td>145</td>\n",
       "    </tr>\n",
       "    <tr>\n",
       "      <th>146</th>\n",
       "      <td>2024-06-05 21:15:55.321761</td>\n",
       "      <td>6.3</td>\n",
       "      <td>5.0</td>\n",
       "      <td>2.5</td>\n",
       "      <td>1.9</td>\n",
       "      <td>146</td>\n",
       "    </tr>\n",
       "    <tr>\n",
       "      <th>147</th>\n",
       "      <td>2024-06-06 21:15:55.321761</td>\n",
       "      <td>6.5</td>\n",
       "      <td>5.2</td>\n",
       "      <td>3.0</td>\n",
       "      <td>2.0</td>\n",
       "      <td>147</td>\n",
       "    </tr>\n",
       "    <tr>\n",
       "      <th>148</th>\n",
       "      <td>2024-06-07 21:15:55.321761</td>\n",
       "      <td>6.2</td>\n",
       "      <td>5.4</td>\n",
       "      <td>3.4</td>\n",
       "      <td>2.3</td>\n",
       "      <td>148</td>\n",
       "    </tr>\n",
       "    <tr>\n",
       "      <th>149</th>\n",
       "      <td>2024-06-08 21:15:55.321761</td>\n",
       "      <td>5.9</td>\n",
       "      <td>5.1</td>\n",
       "      <td>3.0</td>\n",
       "      <td>1.8</td>\n",
       "      <td>149</td>\n",
       "    </tr>\n",
       "  </tbody>\n",
       "</table>\n",
       "<p>150 rows × 6 columns</p>\n",
       "</div>"
      ],
      "text/plain": [
       "               event_timestamp  sepal_length  petal_length  sepal_width  \\\n",
       "0   2024-01-11 21:15:55.321761           5.1           1.4          3.5   \n",
       "1   2024-01-12 21:15:55.321761           4.9           1.4          3.0   \n",
       "2   2024-01-13 21:15:55.321761           4.7           1.3          3.2   \n",
       "3   2024-01-14 21:15:55.321761           4.6           1.5          3.1   \n",
       "4   2024-01-15 21:15:55.321761           5.0           1.4          3.6   \n",
       "..                         ...           ...           ...          ...   \n",
       "145 2024-06-04 21:15:55.321761           6.7           5.2          3.0   \n",
       "146 2024-06-05 21:15:55.321761           6.3           5.0          2.5   \n",
       "147 2024-06-06 21:15:55.321761           6.5           5.2          3.0   \n",
       "148 2024-06-07 21:15:55.321761           6.2           5.4          3.4   \n",
       "149 2024-06-08 21:15:55.321761           5.9           5.1          3.0   \n",
       "\n",
       "     petal_width  irisid  \n",
       "0            0.2       0  \n",
       "1            0.2       1  \n",
       "2            0.2       2  \n",
       "3            0.2       3  \n",
       "4            0.2       4  \n",
       "..           ...     ...  \n",
       "145          2.3     145  \n",
       "146          1.9     146  \n",
       "147          2.0     147  \n",
       "148          2.3     148  \n",
       "149          1.8     149  \n",
       "\n",
       "[150 rows x 6 columns]"
      ]
     },
     "execution_count": 22,
     "metadata": {},
     "output_type": "execute_result"
    }
   ],
   "source": [
    "predictors_df"
   ]
  },
  {
   "cell_type": "code",
   "execution_count": 23,
   "id": "a45bd526-43c6-475e-a6c6-7f6883bd9055",
   "metadata": {},
   "outputs": [],
   "source": [
    "target_df = df[[\"event_timestamp\", \"irisid\", \"species\"]]"
   ]
  },
  {
   "cell_type": "code",
   "execution_count": 24,
   "id": "10226526-06b3-4c91-abd4-0176c93f55c2",
   "metadata": {},
   "outputs": [
    {
     "data": {
      "text/html": [
       "<div>\n",
       "<style scoped>\n",
       "    .dataframe tbody tr th:only-of-type {\n",
       "        vertical-align: middle;\n",
       "    }\n",
       "\n",
       "    .dataframe tbody tr th {\n",
       "        vertical-align: top;\n",
       "    }\n",
       "\n",
       "    .dataframe thead th {\n",
       "        text-align: right;\n",
       "    }\n",
       "</style>\n",
       "<table border=\"1\" class=\"dataframe\">\n",
       "  <thead>\n",
       "    <tr style=\"text-align: right;\">\n",
       "      <th></th>\n",
       "      <th>event_timestamp</th>\n",
       "      <th>irisid</th>\n",
       "      <th>species</th>\n",
       "    </tr>\n",
       "  </thead>\n",
       "  <tbody>\n",
       "    <tr>\n",
       "      <th>0</th>\n",
       "      <td>2024-01-11 21:15:55.321761</td>\n",
       "      <td>0</td>\n",
       "      <td>Iris-setosa</td>\n",
       "    </tr>\n",
       "    <tr>\n",
       "      <th>1</th>\n",
       "      <td>2024-01-12 21:15:55.321761</td>\n",
       "      <td>1</td>\n",
       "      <td>Iris-setosa</td>\n",
       "    </tr>\n",
       "    <tr>\n",
       "      <th>2</th>\n",
       "      <td>2024-01-13 21:15:55.321761</td>\n",
       "      <td>2</td>\n",
       "      <td>Iris-setosa</td>\n",
       "    </tr>\n",
       "  </tbody>\n",
       "</table>\n",
       "</div>"
      ],
      "text/plain": [
       "             event_timestamp  irisid      species\n",
       "0 2024-01-11 21:15:55.321761       0  Iris-setosa\n",
       "1 2024-01-12 21:15:55.321761       1  Iris-setosa\n",
       "2 2024-01-13 21:15:55.321761       2  Iris-setosa"
      ]
     },
     "execution_count": 24,
     "metadata": {},
     "output_type": "execute_result"
    }
   ],
   "source": [
    "target_df.head(3)"
   ]
  },
  {
   "cell_type": "code",
   "execution_count": 25,
   "id": "57c1ccf8-ef33-40b1-8c16-ace67b7f0855",
   "metadata": {},
   "outputs": [],
   "source": [
    "predictors_df.to_parquet('predictors_df.parquet')\n",
    "target_df.to_parquet('target_df.parquet')"
   ]
  },
  {
   "cell_type": "code",
   "execution_count": 26,
   "id": "1a978626-65a4-4907-ab0e-cf7c40883fed",
   "metadata": {},
   "outputs": [
    {
     "name": "stdout",
     "output_type": "stream",
     "text": [
      "<class 'pandas.core.frame.DataFrame'>\n",
      "RangeIndex: 150 entries, 0 to 149\n",
      "Data columns (total 6 columns):\n",
      " #   Column           Non-Null Count  Dtype         \n",
      "---  ------           --------------  -----         \n",
      " 0   event_timestamp  150 non-null    datetime64[ns]\n",
      " 1   sepal_length     150 non-null    float64       \n",
      " 2   petal_length     150 non-null    float64       \n",
      " 3   sepal_width      150 non-null    float64       \n",
      " 4   petal_width      150 non-null    float64       \n",
      " 5   irisid           150 non-null    int64         \n",
      "dtypes: datetime64[ns](1), float64(4), int64(1)\n",
      "memory usage: 7.2 KB\n"
     ]
    }
   ],
   "source": [
    "predictors_df.info()"
   ]
  },
  {
   "cell_type": "code",
   "execution_count": 27,
   "id": "5ce56820-94a8-4e3e-9df2-81415550fb27",
   "metadata": {},
   "outputs": [
    {
     "name": "stdout",
     "output_type": "stream",
     "text": [
      "<class 'pandas.core.frame.DataFrame'>\n",
      "RangeIndex: 150 entries, 0 to 149\n",
      "Data columns (total 3 columns):\n",
      " #   Column           Non-Null Count  Dtype         \n",
      "---  ------           --------------  -----         \n",
      " 0   event_timestamp  150 non-null    datetime64[ns]\n",
      " 1   irisid           150 non-null    int64         \n",
      " 2   species          150 non-null    object        \n",
      "dtypes: datetime64[ns](1), int64(1), object(1)\n",
      "memory usage: 3.6+ KB\n"
     ]
    }
   ],
   "source": [
    "target_df.info()"
   ]
  },
  {
   "cell_type": "code",
   "execution_count": 16,
   "id": "b95a88ce-880f-49e5-8552-c68221212749",
   "metadata": {},
   "outputs": [],
   "source": [
    "from feast import Entity\n",
    "from feast import FeatureView, FileSource, Field"
   ]
  },
  {
   "cell_type": "code",
   "execution_count": 17,
   "id": "e0c14f6e-39b3-4690-b2b6-0dc0f0c49d57",
   "metadata": {},
   "outputs": [],
   "source": [
    "from feast.types import Int32, Int64, Float32, String"
   ]
  },
  {
   "cell_type": "code",
   "execution_count": 16,
   "id": "ee9d44f4-ce47-4768-9ffe-eec04779114f",
   "metadata": {},
   "outputs": [],
   "source": [
    "plant = Entity(name='irisid', join_keys=['irisid'])"
   ]
  },
  {
   "cell_type": "code",
   "execution_count": 17,
   "id": "0bd53b11-79cb-44ea-88db-8f827c49344a",
   "metadata": {},
   "outputs": [],
   "source": [
    "iris_stats_batch_source = FileSource(name='iris_stats_source',\n",
    "                                    path='iris.parquet',\n",
    "                                    timestamp_field='event_timestamp')"
   ]
  },
  {
   "cell_type": "code",
   "execution_count": 18,
   "id": "b7a512b0-be99-4516-a3a0-7d8f61408321",
   "metadata": {},
   "outputs": [],
   "source": [
    "iris_fv = FeatureView(\n",
    "    name='iris_fv',\n",
    "    entities=[plant],\n",
    "    schema= [\n",
    "        Field(name='sepal_length', dtype=Float32),\n",
    "        Field(name='sepal_width', dtype=Float32),\n",
    "        Field(name='petal_length', dtype=Float32),\n",
    "        Field(name='petal_width', dtype=Float32),\n",
    "    ],\n",
    "    source= iris_stats_batch_source\n",
    ")"
   ]
  },
  {
   "cell_type": "code",
   "execution_count": 19,
   "id": "7f62218b-dc9e-4878-8bb2-63dafd20cbdd",
   "metadata": {},
   "outputs": [],
   "source": [
    "from feast import FeatureStore, RepoConfig"
   ]
  },
  {
   "cell_type": "code",
   "execution_count": 20,
   "id": "94f5258f-cb88-486c-aa92-45c45a22cf10",
   "metadata": {},
   "outputs": [
    {
     "name": "stderr",
     "output_type": "stream",
     "text": [
      "/Library/Frameworks/Python.framework/Versions/3.11/lib/python3.11/site-packages/feast/repo_config.py:234: RuntimeWarning: `entity_key_serialization_version` is either not specified in the feature_store.yaml, or is specified to a value <= 1.This serialization version may cause errors when trying to write fields with the `Long` data type into the online store. Specifying `entity_key_serialization_version` to 2 is recommended for new projects. \n",
      "  warnings.warn(\n"
     ]
    }
   ],
   "source": [
    "repo_config = RepoConfig(\n",
    "    project='default',\n",
    "    registry = 'data/registry.db',\n",
    "    provider = 'local',\n",
    "    core_url = 'http://127.0.0.1:6566'\n",
    ")"
   ]
  },
  {
   "cell_type": "code",
   "execution_count": 23,
   "id": "39d44ca5-8de0-414d-a752-1c5b8425aef6",
   "metadata": {},
   "outputs": [],
   "source": [
    "fs = FeatureStore(config=repo_config)"
   ]
  },
  {
   "cell_type": "code",
   "execution_count": 24,
   "id": "88e1dab2-b235-49e3-86c0-9ca1647d7c3f",
   "metadata": {},
   "outputs": [
    {
     "data": {
      "text/plain": [
       "RepoConfig(project='default', provider='local', registry_config='data/registry.db', online_config='sqlite', offline_config='file', batch_engine_config='local', feature_server=None, flags=None, repo_path=None, entity_key_serialization_version=1, coerce_tz_aware=True, core_url='http://127.0.0.1:6566')"
      ]
     },
     "execution_count": 24,
     "metadata": {},
     "output_type": "execute_result"
    }
   ],
   "source": [
    "fs.config"
   ]
  },
  {
   "cell_type": "code",
   "execution_count": 25,
   "id": "3133a13e-0ee0-43d4-ad90-c75ea94ee23d",
   "metadata": {},
   "outputs": [],
   "source": [
    "fs.apply(plant)"
   ]
  },
  {
   "cell_type": "code",
   "execution_count": 26,
   "id": "1ac03732-6968-431a-8fc4-690ac5dc45dd",
   "metadata": {},
   "outputs": [],
   "source": [
    "fs.apply(iris_fv)"
   ]
  },
  {
   "cell_type": "code",
   "execution_count": 27,
   "id": "2fce0dd8-9b68-4635-baff-6361fe7e9f61",
   "metadata": {},
   "outputs": [],
   "source": [
    "featureview = fs.get_feature_view(name='iris_fv')"
   ]
  },
  {
   "cell_type": "code",
   "execution_count": 28,
   "id": "6dc92b4d-4072-492f-8e25-467db604cece",
   "metadata": {},
   "outputs": [
    {
     "data": {
      "text/plain": [
       "<FeatureView(name = iris_fv, entities = ['irisid'], ttl = 0:00:00, stream_source = None, batch_source = {\n",
       "  \"type\": \"BATCH_FILE\",\n",
       "  \"timestampField\": \"event_timestamp\",\n",
       "  \"fileOptions\": {\n",
       "    \"uri\": \"iris.parquet\"\n",
       "  },\n",
       "  \"name\": \"iris_stats_source\"\n",
       "}, entity_columns = [irisid-Int64], features = [sepal_length-Float32, sepal_width-Float32, petal_length-Float32, petal_width-Float32], description = , tags = {}, owner = , projection = FeatureViewProjection(name='iris_fv', name_alias=None, desired_features=[], features=[sepal_length-Float32, sepal_width-Float32, petal_length-Float32, petal_width-Float32], join_key_map={}), created_timestamp = 2024-06-08 09:49:09.621961, last_updated_timestamp = 2024-06-08 09:49:09.621961, online = True, materialization_intervals = [])>"
      ]
     },
     "execution_count": 28,
     "metadata": {},
     "output_type": "execute_result"
    }
   ],
   "source": [
    "featureview"
   ]
  },
  {
   "cell_type": "code",
   "execution_count": null,
   "id": "929dec5e-764c-4551-9d04-2bce2c410112",
   "metadata": {},
   "outputs": [],
   "source": []
  }
 ],
 "metadata": {
  "kernelspec": {
   "display_name": "Python 3 (ipykernel)",
   "language": "python",
   "name": "python3"
  },
  "language_info": {
   "codemirror_mode": {
    "name": "ipython",
    "version": 3
   },
   "file_extension": ".py",
   "mimetype": "text/x-python",
   "name": "python",
   "nbconvert_exporter": "python",
   "pygments_lexer": "ipython3",
   "version": "3.11.5"
  }
 },
 "nbformat": 4,
 "nbformat_minor": 5
}
